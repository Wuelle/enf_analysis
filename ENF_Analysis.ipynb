{
 "cells": [
  {
   "cell_type": "markdown",
   "metadata": {},
   "source": [
    "\n",
    "# Electric Network Frequency Analysis\n",
    "This Notebook is supposed to act as a step-by-step explanation of the\n",
    "[Electric Network Frequency (ENF) Analysis script](https://github.com/Wuelle/enf_analysis) i made. \n",
    "I assume that the reader is familiar with the basic concept of a Fourier Transformation.\n",
    "If you want to follow along, please run the downloader script and place an arbitrary audio sample in the `data/` directory.<br>\n",
    "I also want to explicitly thank the students from the University of Wuhan for providing a [Dataset of ENF Recordings](https://github.com/ghuawhu/ENF-WHU-Dataset)\n",
    "\n",
    "<br>\n",
    "<em>Supported by National Grid ESO Open Data<em>\n",
    "<br>\n",
    "\n",
    "## Table of Contents\n",
    "* [Introduction](#Introduction)\n",
    "* [Fourier Transformation](#Fourier-Transformation)\n",
    "* [Short-time Fourier Transform](#Short-time-Fourier-Transform)\n",
    "* [Matching the Dataset](#Matching-the-Dataset)\n",
    "\n"
   ]
  },
  {
   "cell_type": "markdown",
   "metadata": {},
   "source": [
    "## Introduction\n",
    "The european powergrid runs on alternating current, with a frequency of, in theory, exactly 50 Hertz. In practice however,\n",
    "this value fluctuates due to changes in supply and demand. These Fluctuations are usually in the order of < 1Hz and do not affect everyday consumers at all.\n",
    "\n",
    "Another thing to realize is that alternating current can leave <abbr title=\"Electric Network Frequency\">ENF</abbr>-Artifacts in audio recordings.\n",
    "The noise is know as the [Mains Hum](https://en.wikipedia.org/wiki/Mains_hum) and in its pure 50 Hz form, it\n",
    "is too deep to be heard by a human ear. \n",
    "\n",
    "Luckily, the british [National Grid ESO](https://data.nationalgrideso.com) provides a \n",
    "[free dataset](https://data.nationalgrideso.com/system/system-frequency-data?from=0#resources) of these frequency variations since January of 2019, which we can use to get the historical data. They record the frequency once per second, which is a lot more than i had initially hoped for.\n",
    "\n",
    "If however, we extract this background noise and match it with the values from the dataset, we can exactly timestamp the recording.\n",
    "This process has already been used in court to verify the authenticity of provided audio or to detect evidence of tampering.(because the <abbr title=\"Electric Network Frequency\">ENF</abbr> would suddenly jump around)\n",
    "\n",
    "Since i only have data from europe, my algorithm is only suitable for audio from europe. It should, however, be possible \n",
    "to adapt it to another frequency with only minimal changes. You can find your power grid frequency using the map below.\n",
    "\n",
    "![Powergrid frequencies across the world](https://upload.wikimedia.org/wikipedia/commons/7/70/World_Map_of_Mains_Voltages_and_Frequencies%2C_Detailed.svg)\n",
    "*SomnusDe, Public domain, via Wikimedia Commons*\n",
    "\n",
    "But exactly by how much does the grid frequency fluctuate? According to the [National Grids Mandatory Frequency Response Guide](https://www.nationalgrid.com/sites/default/files/documents/Mandatory%20Frequency%20Response%20Guide%20v1.1.pdf), the grid is considered\n",
    "\n",
    "|   | unoperational | unstatuory |\n",
    "| --- | --- | --- |\n",
    "| below | 49.8Hz | 49.5Hz |\n",
    "| above | 50.2Hz | 50.5Hz |\n",
    "\n",
    "We will therefore only perform fourier transformations for the frequencies between 49.5Hz and 50.5Hz. Since the dataset\n",
    "has a precision up to $\\frac{1}{1000}$ of a Hertz, it would be good to match that. We therefore need to perform Fourier transformations for $(50.5 - 49.5) \\times 1000 = 1000$ frequencies.\n",
    "The Nyquist Frequency, which i explain [here](#Nyquist-Frequency), tells us that to analyze frequencies up to 50.5Hz, we will need (at least) a sample rate of 101 samples per second. This is great because .wav files usually sit at around 48000 samples per second. By reducing the number of samples per second, we can greatly reduce the computations required.\n",
    "If we want precision up to $\\frac{1}{100}$ and a maximum of 50.5Hz, we will require $50.5 \\times 100 = 5050$ samples."
   ]
  },
  {
   "cell_type": "code",
   "execution_count": 1,
   "metadata": {},
   "outputs": [],
   "source": [
    "import matplotlib.pyplot as plt\n",
    "import numpy as np\n",
    "\n",
    "%matplotlib inline\n",
    "plt.rcParams[\"figure.figsize\"] = (20,5)"
   ]
  },
  {
   "cell_type": "markdown",
   "metadata": {},
   "source": [
    "## Fourier Transformation\n",
    "The exact Algorithm is beyond the scope of this document, however the Youtube Channel [3b1b](https://www.youtube.com/channel/UCYO_jab_esuFRV4b17AJtAw) provides an [excellent in-depth Explanation](https://www.youtube.com/watch?v=spUNpyF58BY).<br>\n",
    "TLDR;<br>\n",
    "A Fourier Transformation is a process by which the underlying frequencies of a noisy signal can be extracted.<br>\n",
    "\n",
    "### Reading the data\n",
    "The [data](https://data.nationalgrideso.com/system/system-frequency-data?from=0#resources) has a resolution of one sample per second. So there is no need to calculate anything more precise than that since we would just be overfitting the data anyway.\n"
   ]
  },
  {
   "cell_type": "code",
   "execution_count": 3,
   "metadata": {},
   "outputs": [
    {
     "ename": "FileNotFoundError",
     "evalue": "[Errno 2] No such file or directory: 'ENF-WHU-Dataset/ENF-WHU-Dataset/H1/001.wav'",
     "output_type": "error",
     "traceback": [
      "\u001b[0;31m---------------------------------------------------------------------------\u001b[0m",
      "\u001b[0;31mFileNotFoundError\u001b[0m                         Traceback (most recent call last)",
      "Input \u001b[0;32mIn [3]\u001b[0m, in \u001b[0;36m<cell line: 17>\u001b[0;34m()\u001b[0m\n\u001b[1;32m     13\u001b[0m NYQ \u001b[38;5;241m=\u001b[39m FS \u001b[38;5;241m/\u001b[39m\u001b[38;5;241m/\u001b[39m \u001b[38;5;241m2\u001b[39m\n\u001b[1;32m     16\u001b[0m \u001b[38;5;66;03m# if you are using your own data, make sure its mono\u001b[39;00m\n\u001b[0;32m---> 17\u001b[0m fs_orig, data_orig \u001b[38;5;241m=\u001b[39m \u001b[43mwavfile\u001b[49m\u001b[38;5;241;43m.\u001b[39;49m\u001b[43mread\u001b[49m\u001b[43m(\u001b[49m\u001b[38;5;124;43m\"\u001b[39;49m\u001b[38;5;124;43mENF-WHU-Dataset/ENF-WHU-Dataset/H1/001.wav\u001b[39;49m\u001b[38;5;124;43m\"\u001b[39;49m\u001b[43m)\u001b[49m\n\u001b[1;32m     18\u001b[0m data \u001b[38;5;241m=\u001b[39m resample(data_orig, \u001b[38;5;28mint\u001b[39m((data_orig\u001b[38;5;241m.\u001b[39mshape[\u001b[38;5;241m0\u001b[39m] \u001b[38;5;241m/\u001b[39m fs_orig) \u001b[38;5;241m*\u001b[39m FS))\n",
      "File \u001b[0;32m/usr/lib/python3/dist-packages/scipy/io/wavfile.py:233\u001b[0m, in \u001b[0;36mread\u001b[0;34m(filename, mmap)\u001b[0m\n\u001b[1;32m    231\u001b[0m     mmap \u001b[38;5;241m=\u001b[39m \u001b[38;5;28;01mFalse\u001b[39;00m\n\u001b[1;32m    232\u001b[0m \u001b[38;5;28;01melse\u001b[39;00m:\n\u001b[0;32m--> 233\u001b[0m     fid \u001b[38;5;241m=\u001b[39m \u001b[38;5;28;43mopen\u001b[39;49m\u001b[43m(\u001b[49m\u001b[43mfilename\u001b[49m\u001b[43m,\u001b[49m\u001b[43m \u001b[49m\u001b[38;5;124;43m'\u001b[39;49m\u001b[38;5;124;43mrb\u001b[39;49m\u001b[38;5;124;43m'\u001b[39;49m\u001b[43m)\u001b[49m\n\u001b[1;32m    235\u001b[0m \u001b[38;5;28;01mtry\u001b[39;00m:\n\u001b[1;32m    236\u001b[0m     file_size, is_big_endian \u001b[38;5;241m=\u001b[39m _read_riff_chunk(fid)\n",
      "\u001b[0;31mFileNotFoundError\u001b[0m: [Errno 2] No such file or directory: 'ENF-WHU-Dataset/ENF-WHU-Dataset/H1/001.wav'"
     ]
    }
   ],
   "source": [
    "from scipy.io import wavfile\n",
    "from scipy.signal import resample\n",
    "\n",
    "# change this to 60Hz for US-audio\n",
    "ENF = 50\n",
    "# the nth harmonic to analyze\n",
    "HARMONIC = 1\n",
    "# bandpass width, in Hz\n",
    "DELTA = 1\n",
    "# sample rate (data will be resampled to match desired frequency)\n",
    "FS = 500\n",
    "# Nyquist frequency\n",
    "NYQ = FS // 2\n",
    "\n",
    "\n",
    "# if you are using your own data, make sure its mono\n",
    "fs_orig, data_orig = wavfile.read(\"ENF-WHU-Dataset/ENF-WHU-Dataset/H1/001.wav\")\n",
    "data = resample(data_orig, int((data_orig.shape[0] / fs_orig) * FS))"
   ]
  },
  {
   "cell_type": "markdown",
   "metadata": {},
   "source": [
    "### Applying a Bandpass\n",
    "Since we are dealing with real-world data, the signal contains **a lot** more frequencies than just the ENF. Since we are not interested in any of them, we can remove them using a bandpass filter that removes all frequencies outside a certain range. Luckily, scipy provides the [signal.butter](https://docs.scipy.org/doc/scipy/reference/generated/scipy.signal.butter.html) filter, which is designed to be as flat as possible within the passband. That way, the frequencies within the band barely get modified."
   ]
  },
  {
   "cell_type": "code",
   "execution_count": 2,
   "metadata": {},
   "outputs": [
    {
     "ename": "NameError",
     "evalue": "name 'ENF' is not defined",
     "output_type": "error",
     "traceback": [
      "\u001b[0;31m---------------------------------------------------------------------------\u001b[0m",
      "\u001b[0;31mNameError\u001b[0m                                 Traceback (most recent call last)",
      "Input \u001b[0;32mIn [2]\u001b[0m, in \u001b[0;36m<cell line: 3>\u001b[0;34m()\u001b[0m\n\u001b[1;32m      1\u001b[0m \u001b[38;5;28;01mfrom\u001b[39;00m \u001b[38;5;21;01mscipy\u001b[39;00m\u001b[38;5;21;01m.\u001b[39;00m\u001b[38;5;21;01msignal\u001b[39;00m \u001b[38;5;28;01mimport\u001b[39;00m butter\n\u001b[0;32m----> 3\u001b[0m LOWER \u001b[38;5;241m=\u001b[39m (\u001b[43mENF\u001b[49m \u001b[38;5;241m-\u001b[39m DELTA) \u001b[38;5;241m*\u001b[39m HARMONIC\n\u001b[1;32m      4\u001b[0m UPPER \u001b[38;5;241m=\u001b[39m (ENF \u001b[38;5;241m+\u001b[39m DELTA) \u001b[38;5;241m*\u001b[39m HARMONIC\n\u001b[1;32m      6\u001b[0m b, a \u001b[38;5;241m=\u001b[39m butter(\u001b[38;5;241m4\u001b[39m, (LOWER, UPPER), \u001b[38;5;124m\"\u001b[39m\u001b[38;5;124mbandpass\u001b[39m\u001b[38;5;124m\"\u001b[39m, fs\u001b[38;5;241m=\u001b[39mFS)\n",
      "\u001b[0;31mNameError\u001b[0m: name 'ENF' is not defined"
     ]
    }
   ],
   "source": [
    "from scipy.signal import butter\n",
    "\n",
    "LOWER = (ENF - DELTA) * HARMONIC\n",
    "UPPER = (ENF + DELTA) * HARMONIC\n",
    "\n",
    "b, a = butter(4, (LOWER, UPPER), \"bandpass\", fs=FS)\n",
    "\n",
    "# test frequency response\n",
    "freq, h = freqz(b, a, fs=FS, worN=500)\n",
    "\n",
    "# Convert frequency response to dB (logarithmic scale)\n",
    "plt.plot(freq, 20*np.log10(np.maximum(abs(h), 1e-5)))\n",
    "plt.title(\"Frequency Response\")\n",
    "plt.ylabel(\"Amplitude (dB)\")\n",
    "plt.xlabel(\"Frequency (Hz)\")\n",
    "plt.xlim([0, 100])\n",
    "plt.axvspan(LOWER, UPPER, facecolor=\"gray\", alpha=0.5)\n",
    "plt.xticks(list(plt.xticks()[0]) + [LOWER, UPPER])\n",
    "plt.grid()\n",
    "plt.show()\n",
    "\n",
    "# Filter the actual data\n",
    "data = filtfilt(b, a, data)"
   ]
  },
  {
   "cell_type": "markdown",
   "metadata": {},
   "source": [
    "### Applying a Fourier Transform\n",
    "Just slicing the wave file to the size of a window is insufficient, since it artificially creates edges at the start and end of the window. To avoid this, we multiply the window by a half cosine function to ensure a smooth transition. (This is called a [Hanning Window](https://numpy.org/doc/stable/reference/generated/numpy.hanning.html))"
   ]
  },
  {
   "cell_type": "code",
   "execution_count": null,
   "metadata": {},
   "outputs": [],
   "source": [
    "from scipy.fft import next_fast_len, rfft, rfftfreq\n",
    "\n",
    "window_size = 5000\n",
    "pad_to = next_fast_len(window_size, real=True)\n",
    "window = data[:window_size] * np.hanning(window_size)\n",
    "fourier = np.abs(rfft(window, n=pad_to))\n",
    "frequencies = rfftfreq(window_size, d=1/FS)\n",
    "\n",
    "plt.plot(frequencies, fourier)\n",
    "plt.xlabel(\"Frequency [Hz]\")\n",
    "plt.ylabel(\"Amount\")\n",
    "plt.title(\"Discrete time Fourier transform\")\n",
    "plt.show()"
   ]
  },
  {
   "cell_type": "markdown",
   "metadata": {},
   "source": [
    "We can clearly see the spike at approximately 50Hz. This is the noise created by the electric network that we are looking\n",
    "for. If, at this point, you do not see a spike, the audio does not contain any ENF artifacts and it cannot be timestamped using the\n",
    "algorithm."
   ]
  },
  {
   "cell_type": "markdown",
   "metadata": {},
   "source": [
    "## Instantaneous Frequency\n",
    "There is a huge problem with using Fourier Transforms for analysing frequency variation: it takes a window of audio\n",
    "and extracts the contained frequencies. But we know that they are not constant. Of course they can approximated to be constant by using a very small window. But since the frequency resolution of the Fourier Transform is given by\n",
    "$\\frac{\\mbox{sample frequency}}{\\mbox{window size}}$, reducing the window size would also reduce our resolution.\n",
    "\n",
    "There is a solution for this problem: The [Hilbert Transform](https://en.wikipedia.org/wiki/Hilbert_transform)<br>\n",
    "There are two different ways to think about frequency:\n",
    "* Cycles per unit of time\n",
    "* Angular velocity\n",
    "\n",
    "Since we already filtered all frequencies that are not close to 50Hz, the Hilbert Transform should only contain \n",
    "the ENF Noise we are after."
   ]
  },
  {
   "cell_type": "code",
   "execution_count": null,
   "metadata": {},
   "outputs": [],
   "source": [
    "from scipy.signal import hilbert\n",
    "\n",
    "analytic_data = hilbert(data)\n",
    "\n",
    "instantaneous_phase = np.unwrap(np.angle(analytic_data))\n",
    "instantaneous_frequency = np.diff(instantaneous_phase) / (2 * np.pi) * FS"
   ]
  },
  {
   "cell_type": "markdown",
   "metadata": {},
   "source": [
    "For fun, lets plot this against the ground truth provided by the students of Wuhan University."
   ]
  },
  {
   "cell_type": "code",
   "execution_count": null,
   "metadata": {},
   "outputs": [],
   "source": [
    "# load the ground truth and apply the Hilbert transform\n",
    "fs_orig, data_orig = wavfile.read(\"ENF-WHU-Dataset/ENF-WHU-Dataset/H1_ref/001_ref.wav\")\n",
    "isolated_noise = resample(data_orig, int((data_orig.shape[0] / fs_orig) * FS))\n",
    "\n",
    "isolated_inst_phase = np.unwrap(np.angle(hilbert(isolated_noise)))\n",
    "isolated_inst_freq = np.diff(isolated_inst_phase) / (2 * np.pi) * FS\n",
    "\n",
    "# scale and resample the signal\n",
    "factor = max(data[:100])/max(isolated_noise[:100])  # ugly hack\n",
    "y1 = resample(isolated_noise[:100] * factor, 1000)\n",
    "y2 = resample(data[:100], 1000)\n",
    "\n",
    "\n",
    "fig, (ax1, ax2) = plt.subplots(2)\n",
    "\n",
    "# plot amplitude\n",
    "ax1.plot(y1, label=\"Ground Truth\")\n",
    "ax1.plot(y2, label=\"Filtered\")\n",
    "ax1.set_title(\"Amplitude\")\n",
    "ax1.set_ylabel(\"Amplitude\")\n",
    "ax1.set_xlabel(\"Time\")\n",
    "ax1.grid()\n",
    "ax1.legend()\n",
    "\n",
    "# plot frequency\n",
    "ax2.plot(isolated_inst_freq[:100], label=\"Ground Truth\")\n",
    "ax2.plot(instantaneous_frequency[:100], label=\"Reconstructed\")\n",
    "ax2.set_ylim([48, 52])\n",
    "ax2.set_ylabel(\"Frequency (Hz)\")\n",
    "ax2.set_xlabel(\"Time\")\n",
    "ax2.set_title(\"Frequency\")\n",
    "ax2.grid()\n",
    "ax2.legend()\n",
    "\n",
    "\n",
    "plt.tight_layout()\n",
    "plt.show()"
   ]
  },
  {
   "cell_type": "markdown",
   "metadata": {},
   "source": [
    "## Matching the Dataset\n",
    "Thats our ENF-Noise. Now its time to look at the ground truth data (from britain). Since the format from datasets\n",
    "around the world might differ, you cannot reuse this part with another dataset."
   ]
  },
  {
   "cell_type": "code",
   "execution_count": null,
   "metadata": {},
   "outputs": [],
   "source": [
    "import pandas as pd\n",
    "\n",
    "date_parser = lambda date: pd.datetime.strptime(date, \"%Y-%m-%d %H:%M:%S\")\n",
    "df = pd.read_csv(\"data/fNew 2020 2.csv\", parse_dates=True, date_parser=date_parser)\n",
    "\n",
    "plt.plot(df.iloc[:, 1].values[:60])\n",
    "plt.xlabel(\"Time (s)\")\n",
    "plt.ylabel(\"ENF (Hz)\")\n",
    "plt.title(\"Ground Truth\")\n",
    "plt.show()"
   ]
  }
 ],
 "metadata": {
  "kernelspec": {
   "display_name": "Python 3 (ipykernel)",
   "language": "python",
   "name": "python3"
  },
  "language_info": {
   "codemirror_mode": {
    "name": "ipython",
    "version": 3
   },
   "file_extension": ".py",
   "mimetype": "text/x-python",
   "name": "python",
   "nbconvert_exporter": "python",
   "pygments_lexer": "ipython3",
   "version": "3.8.10"
  }
 },
 "nbformat": 4,
 "nbformat_minor": 4
}
